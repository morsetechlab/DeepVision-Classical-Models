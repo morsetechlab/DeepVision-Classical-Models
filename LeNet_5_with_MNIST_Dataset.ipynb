{
  "nbformat": 4,
  "nbformat_minor": 0,
  "metadata": {
    "colab": {
      "provenance": [],
      "machine_shape": "hm",
      "gpuType": "A100"
    },
    "kernelspec": {
      "name": "python3",
      "display_name": "Python 3"
    },
    "language_info": {
      "name": "python"
    },
    "accelerator": "GPU"
  },
  "cells": [
    {
      "cell_type": "markdown",
      "source": [
        "## Setup Environments"
      ],
      "metadata": {
        "id": "4nggu1EKyV6L"
      }
    },
    {
      "cell_type": "markdown",
      "source": [
        "### Mount Drive and Setup Project Directory"
      ],
      "metadata": {
        "id": "MgI4TOswyh6Z"
      }
    },
    {
      "cell_type": "code",
      "source": [
        "from google.colab import drive\n",
        "drive.mount('/content/drive')"
      ],
      "metadata": {
        "id": "5HHusz3Ny4Vg"
      },
      "execution_count": null,
      "outputs": []
    },
    {
      "cell_type": "code",
      "source": [
        "project_dir=\"your-project-directory\""
      ],
      "metadata": {
        "id": "udT0Ym-3zOkj"
      },
      "execution_count": 42,
      "outputs": []
    },
    {
      "cell_type": "code",
      "source": [
        "%cd {project_dir}"
      ],
      "metadata": {
        "id": "zIy1-YN7zugX"
      },
      "execution_count": null,
      "outputs": []
    },
    {
      "cell_type": "code",
      "source": [
        "!pwd"
      ],
      "metadata": {
        "id": "CCXHlnL_zxSt"
      },
      "execution_count": null,
      "outputs": []
    },
    {
      "cell_type": "markdown",
      "source": [
        "### Define All Seed"
      ],
      "metadata": {
        "id": "4nGriO9pyNVd"
      }
    },
    {
      "cell_type": "code",
      "execution_count": 45,
      "metadata": {
        "id": "vM7liq2RxonM"
      },
      "outputs": [],
      "source": [
        "import random\n",
        "import numpy as np\n",
        "import torch\n",
        "\n",
        "def seed_everything(seed=42):\n",
        "    random.seed(seed)\n",
        "    np.random.seed(seed)\n",
        "    torch.manual_seed(seed)\n",
        "    torch.cuda.manual_seed_all(seed)"
      ]
    },
    {
      "cell_type": "markdown",
      "source": [
        "## MNIST Dataset"
      ],
      "metadata": {
        "id": "gwOIv4KMz3CP"
      }
    },
    {
      "cell_type": "code",
      "source": [
        "from torchvision.datasets import MNIST\n",
        "from torchvision import transforms\n",
        "from torch.utils.data import random_split, DataLoader\n",
        "import matplotlib.pyplot as plt"
      ],
      "metadata": {
        "id": "7hhZM6KWvy07"
      },
      "execution_count": 46,
      "outputs": []
    },
    {
      "cell_type": "code",
      "source": [
        "# Create transform to resize (32, 32) and Normalize [-1, 1]\n",
        "transform = transforms.Compose([\n",
        "    transforms.Resize((32, 32)), # LeNet-5 ใช้ 32×32\n",
        "    transforms.ToTensor(),\n",
        "    transforms.Normalize((0.5,), (0.5,)) # ทำให้ภาพอยู่ในช่วง [-1, 1]\n",
        "])"
      ],
      "metadata": {
        "id": "hjNkWbtrv0td"
      },
      "execution_count": 47,
      "outputs": []
    },
    {
      "cell_type": "code",
      "source": [
        "# Load MNIST\n",
        "train_val_dataset = MNIST(root=\"data\", train=True, download=True, transform=transform)\n",
        "test_dataset = MNIST(root=\"data\", train=False, download=True, transform=transform)"
      ],
      "metadata": {
        "id": "nBZw0KC2v9Jr"
      },
      "execution_count": 48,
      "outputs": []
    },
    {
      "cell_type": "code",
      "source": [
        "# Split training / eval set (90% / 10%)\n",
        "train_len = int(len(train_val_dataset) * 0.9)\n",
        "eval_len = len(train_val_dataset) - train_len\n",
        "train_dataset, eval_dataset = random_split(train_val_dataset, [train_len, eval_len])"
      ],
      "metadata": {
        "id": "DWnRxlQqwDHE"
      },
      "execution_count": 49,
      "outputs": []
    },
    {
      "cell_type": "markdown",
      "source": [
        "### DataLoder"
      ],
      "metadata": {
        "id": "uBxQPSAt0-Fh"
      }
    },
    {
      "cell_type": "code",
      "source": [
        "BATCH_SIZE = 64\n",
        "train_loader = DataLoader(train_dataset, batch_size=BATCH_SIZE, shuffle=True, num_workers=2)\n",
        "eval_loader = DataLoader(eval_dataset, batch_size=BATCH_SIZE, shuffle=False, num_workers=2)\n",
        "test_loader = DataLoader(test_dataset, batch_size=BATCH_SIZE, shuffle=False, num_workers=2)"
      ],
      "metadata": {
        "id": "puc0QfOC070h"
      },
      "execution_count": 50,
      "outputs": []
    },
    {
      "cell_type": "code",
      "source": [
        "def show_mnist_examples(dataset):\n",
        "    plt.figure(figsize=(10, 2.5))\n",
        "    for i in range(10):\n",
        "        image, label = dataset[i]\n",
        "        plt.subplot(1, 10, i + 1)\n",
        "        plt.imshow(image.squeeze(0), cmap=\"gray\")\n",
        "        plt.title(str(label), fontsize=10)\n",
        "        plt.axis(\"off\")\n",
        "    plt.suptitle(f\"MNIST Dataset\", fontsize=14)\n",
        "    plt.tight_layout()\n",
        "    plt.show()"
      ],
      "metadata": {
        "id": "BnWBtfjE1GB6"
      },
      "execution_count": 51,
      "outputs": []
    },
    {
      "cell_type": "code",
      "source": [
        "show_mnist_examples(train_dataset)"
      ],
      "metadata": {
        "colab": {
          "base_uri": "https://localhost:8080/",
          "height": 215
        },
        "id": "5PaeiELlwNN-",
        "outputId": "7779af04-453f-49f4-a5d1-b6238c15cbca"
      },
      "execution_count": 52,
      "outputs": [
        {
          "output_type": "display_data",
          "data": {
            "text/plain": [
              "<Figure size 1000x250 with 10 Axes>"
            ],
            "image/png": "[encoded data removed]"
          },
          "metadata": {}
        }
      ]
    },
    {
      "cell_type": "markdown",
      "source": [
        "## LeNet-5\n",
        "\n",
        "```\n",
        "Input: [1x32x32] grayscale image\n",
        "→ C1: Conv2D(6, 5x5)\n",
        "→ S2: AvgPool(2x2)\n",
        "→ C3: Conv2D(16, 5x5)\n",
        "→ S4: AvgPool(2x2)\n",
        "→ C5: Conv2D(120, 5x5)\n",
        "→ Flatten\n",
        "→ FC6: Linear(84)\n",
        "→ Output: Linear(10) ← เราจะเปลี่ยนเป็น 101 class\n",
        "```"
      ],
      "metadata": {
        "id": "xe3YgCeU2ctz"
      }
    },
    {
      "cell_type": "markdown",
      "source": [
        "###  LeNet5 Model"
      ],
      "metadata": {
        "id": "oXqZy3gm2qCA"
      }
    },
    {
      "cell_type": "code",
      "source": [
        "import torch.nn as nn\n",
        "import torch.nn.functional as F\n",
        "\n",
        "class LeNet5(nn.Module):\n",
        "    def __init__(self, num_classes=10):\n",
        "        super(LeNet5, self).__init__()\n",
        "\n",
        "        # Feature Extractor (Backbone)\n",
        "        self.conv1 = nn.Conv2d(1, 6, kernel_size=5) # gray scale input, 6 features\n",
        "        self.pool1 = nn.AvgPool2d(kernel_size=2, stride=2) # downsampling with average pooling\n",
        "        self.conv2 = nn.Conv2d(6, 16, kernel_size=5) # 16 features\n",
        "        self.pool2 = nn.AvgPool2d(kernel_size=2, stride=2) # downsampling with average pooling\n",
        "        self.conv3 = nn.Conv2d(16, 120, kernel_size=5) # 120 features\n",
        "\n",
        "        # Classifier (Fully Connected)\n",
        "        self.fc1 = nn.Linear(120, 84) # 120 vectors to 84 neurons\n",
        "        self.fc2 = nn.Linear(84, num_classes) # 84 neurons to 10 classes\n",
        "\n",
        "    def forward(self, x):\n",
        "        # input = [1, 32, 32]\n",
        "\n",
        "        # Feature Extractor (Backbone)\n",
        "        x = F.relu(self.conv1(x)) # Conv + ReLU\n",
        "        x = self.pool1(x) # AvgPool\n",
        "        x = F.relu(self.conv2(x))\n",
        "        x = self.pool2(x)\n",
        "        x = F.relu(self.conv3(x)) # Output: [batch, 120, 1, 1]\n",
        "\n",
        "        # Classifier (Fully Connected)\n",
        "        x = x.view(x.size(0), -1) # flatten เป็น [batch, 120]\n",
        "        x = F.relu(self.fc1(x))\n",
        "        x = self.fc2(x)\n",
        "        return x"
      ],
      "metadata": {
        "id": "S7JxEeIH2hUw"
      },
      "execution_count": 53,
      "outputs": []
    },
    {
      "cell_type": "markdown",
      "source": [
        "## Output Size = ((Input - Kernel + (2 * Padding)) / Stride) + 1\n",
        "\n",
        "```\n",
        "Input size (เช่น 32)\n",
        "Kernel size (เช่น 5)\n",
        "Padding (เช่น 0)\n",
        "Stride (ค่าเริ่มต้นคือ 1)\n",
        "```"
      ],
      "metadata": {
        "id": "9-sk6pBk2eVU"
      }
    },
    {
      "cell_type": "code",
      "source": [
        "# Create a Model\n",
        "device = torch.device(\"cuda\" if torch.cuda.is_available() else \"cpu\")\n",
        "model = LeNet5().to(device) # move to GPU"
      ],
      "metadata": {
        "id": "lpPmlAUsxEVf"
      },
      "execution_count": 54,
      "outputs": []
    },
    {
      "cell_type": "code",
      "source": [
        "!pip install -q torchsummary"
      ],
      "metadata": {
        "id": "PmvTVAK3CH7x"
      },
      "execution_count": 55,
      "outputs": []
    },
    {
      "cell_type": "markdown",
      "source": [
        "#### Model Summary"
      ],
      "metadata": {
        "id": "mHFgaqqtCUf5"
      }
    },
    {
      "cell_type": "code",
      "source": [
        "from torchsummary import summary\n",
        "summary(model, input_size=(1, 32, 32))\n"
      ],
      "metadata": {
        "colab": {
          "base_uri": "https://localhost:8080/"
        },
        "id": "ZYML7uqPCRVU",
        "outputId": "a5568c2f-8cbf-4e12-9c6a-5155b320029e"
      },
      "execution_count": 56,
      "outputs": [
        {
          "output_type": "stream",
          "name": "stdout",
          "text": [
            "----------------------------------------------------------------\n",
            "        Layer (type)               Output Shape         Param #\n",
            "================================================================\n",
            "            Conv2d-1            [-1, 6, 28, 28]             156\n",
            "         AvgPool2d-2            [-1, 6, 14, 14]               0\n",
            "            Conv2d-3           [-1, 16, 10, 10]           2,416\n",
            "         AvgPool2d-4             [-1, 16, 5, 5]               0\n",
            "            Conv2d-5            [-1, 120, 1, 1]          48,120\n",
            "            Linear-6                   [-1, 84]          10,164\n",
            "            Linear-7                   [-1, 10]             850\n",
            "================================================================\n",
            "Total params: 61,706\n",
            "Trainable params: 61,706\n",
            "Non-trainable params: 0\n",
            "----------------------------------------------------------------\n",
            "Input size (MB): 0.00\n",
            "Forward/backward pass size (MB): 0.06\n",
            "Params size (MB): 0.24\n",
            "Estimated Total Size (MB): 0.30\n",
            "----------------------------------------------------------------\n"
          ]
        }
      ]
    },
    {
      "cell_type": "markdown",
      "source": [
        "## Training Loop"
      ],
      "metadata": {
        "id": "vcHjXuNvDVqL"
      }
    },
    {
      "cell_type": "code",
      "source": [
        "import torch\n",
        "import torch.nn as nn\n",
        "import torch.optim as optim\n",
        "from tqdm import tqdm\n",
        "import time"
      ],
      "metadata": {
        "id": "5Tuc7EXxDVbb"
      },
      "execution_count": 57,
      "outputs": []
    },
    {
      "cell_type": "code",
      "source": [
        "# Loss และ Optimizer\n",
        "criterion = nn.CrossEntropyLoss()\n",
        "optimizer = optim.Adam(model.parameters(), lr=0.001)"
      ],
      "metadata": {
        "id": "YmA3_HeACWEn"
      },
      "execution_count": 58,
      "outputs": []
    },
    {
      "cell_type": "code",
      "source": [
        "# Helper to Calculate Accuracy\n",
        "def calculate_accuracy(y_pred, y_true):\n",
        "    _, predicted = torch.max(y_pred, 1)\n",
        "    correct = (predicted == y_true).sum().item()\n",
        "    return correct / len(y_true)"
      ],
      "metadata": {
        "id": "OjE-t2TPDieT"
      },
      "execution_count": 59,
      "outputs": []
    },
    {
      "cell_type": "code",
      "source": [
        "# Logging\n",
        "train_losses, eval_losses = [], []\n",
        "train_accuracies, eval_accuracies = [], []"
      ],
      "metadata": {
        "id": "KJquWLGSDjrO"
      },
      "execution_count": 60,
      "outputs": []
    },
    {
      "cell_type": "code",
      "source": [
        "# epochs\n",
        "NUM_EPOCHS = 20"
      ],
      "metadata": {
        "id": "dgwAvO4rDrba"
      },
      "execution_count": 61,
      "outputs": []
    },
    {
      "cell_type": "code",
      "source": [
        "total_start_time = time.time()\n",
        "\n",
        "for epoch in range(NUM_EPOCHS):\n",
        "    start_time = time.time()\n",
        "\n",
        "    # ---- TRAIN ----\n",
        "    model.train()\n",
        "    running_loss = 0.0\n",
        "    running_correct = 0\n",
        "    total = 0\n",
        "\n",
        "    train_loop = tqdm(train_loader, desc=f\"[Train Epoch {epoch+1}]\")\n",
        "    for inputs, labels in train_loop:\n",
        "        inputs, labels = inputs.to(device), labels.to(device)\n",
        "\n",
        "        optimizer.zero_grad()\n",
        "        outputs = model(inputs)\n",
        "        loss = criterion(outputs, labels)\n",
        "        loss.backward()\n",
        "        optimizer.step()\n",
        "\n",
        "        # Logging\n",
        "        running_loss += loss.item() * inputs.size(0)\n",
        "        running_correct += (outputs.argmax(1) == labels).sum().item()\n",
        "        total += labels.size(0)\n",
        "\n",
        "        train_loop.set_postfix(loss=loss.item())\n",
        "\n",
        "    train_loss = running_loss / total\n",
        "    train_acc = running_correct / total\n",
        "    train_losses.append(train_loss)\n",
        "    train_accuracies.append(train_acc)\n",
        "\n",
        "    # ---- EVAL ----\n",
        "    model.eval()\n",
        "    eval_loss = 0.0\n",
        "    eval_correct = 0\n",
        "    eval_total = 0\n",
        "\n",
        "    with torch.no_grad():\n",
        "        for inputs, labels in eval_loader:\n",
        "            inputs, labels = inputs.to(device), labels.to(device)\n",
        "            outputs = model(inputs)\n",
        "            loss = criterion(outputs, labels)\n",
        "\n",
        "            eval_loss += loss.item() * inputs.size(0)\n",
        "            eval_correct += (outputs.argmax(1) == labels).sum().item()\n",
        "            eval_total += labels.size(0)\n",
        "\n",
        "    eval_loss = eval_loss / eval_total\n",
        "    eval_acc = eval_correct / eval_total\n",
        "    eval_losses.append(eval_loss)\n",
        "    eval_accuracies.append(eval_acc)\n",
        "\n",
        "    end_time = time.time()\n",
        "    print(f\"Epoch {epoch+1} Summary | Train Loss: {train_loss:.4f} | Train Acc: {train_acc:.4f} | Eval Loss: {eval_loss:.4f} | Eval Acc: {eval_acc:.4f} | Time: {end_time - start_time:.2f}s\")\n",
        "\n",
        "total_time = time.time() - total_start_time\n",
        "print(f\"\\nFinish training on time: {total_time/60:.2f} Min.\")"
      ],
      "metadata": {
        "colab": {
          "base_uri": "https://localhost:8080/"
        },
        "id": "2whRShP1DvSP",
        "outputId": "01e086c6-1429-4525-91ea-20d55787f133"
      },
      "execution_count": 62,
      "outputs": [
        {
          "output_type": "stream",
          "name": "stderr",
          "text": [
            "[Train Epoch 1]: 100%|██████████| 844/844 [00:08<00:00, 101.05it/s, loss=0.223]\n"
          ]
        },
        {
          "output_type": "stream",
          "name": "stdout",
          "text": [
            "Epoch 1 Summary | Train Loss: 0.3156 | Train Acc: 0.9009 | Eval Loss: 0.1190 | Eval Acc: 0.9607 | Time: 9.24s\n"
          ]
        },
        {
          "output_type": "stream",
          "name": "stderr",
          "text": [
            "[Train Epoch 2]: 100%|██████████| 844/844 [00:07<00:00, 109.12it/s, loss=0.105]\n"
          ]
        },
        {
          "output_type": "stream",
          "name": "stdout",
          "text": [
            "Epoch 2 Summary | Train Loss: 0.0893 | Train Acc: 0.9721 | Eval Loss: 0.0669 | Eval Acc: 0.9802 | Time: 8.68s\n"
          ]
        },
        {
          "output_type": "stream",
          "name": "stderr",
          "text": [
            "[Train Epoch 3]: 100%|██████████| 844/844 [00:07<00:00, 112.19it/s, loss=0.00981]\n"
          ]
        },
        {
          "output_type": "stream",
          "name": "stdout",
          "text": [
            "Epoch 3 Summary | Train Loss: 0.0626 | Train Acc: 0.9807 | Eval Loss: 0.0647 | Eval Acc: 0.9803 | Time: 8.36s\n"
          ]
        },
        {
          "output_type": "stream",
          "name": "stderr",
          "text": [
            "[Train Epoch 4]: 100%|██████████| 844/844 [00:07<00:00, 110.30it/s, loss=0.0374]\n"
          ]
        },
        {
          "output_type": "stream",
          "name": "stdout",
          "text": [
            "Epoch 4 Summary | Train Loss: 0.0494 | Train Acc: 0.9846 | Eval Loss: 0.0500 | Eval Acc: 0.9860 | Time: 8.46s\n"
          ]
        },
        {
          "output_type": "stream",
          "name": "stderr",
          "text": [
            "[Train Epoch 5]: 100%|██████████| 844/844 [00:07<00:00, 113.44it/s, loss=0.00555]\n"
          ]
        },
        {
          "output_type": "stream",
          "name": "stdout",
          "text": [
            "Epoch 5 Summary | Train Loss: 0.0414 | Train Acc: 0.9872 | Eval Loss: 0.0417 | Eval Acc: 0.9875 | Time: 8.44s\n"
          ]
        },
        {
          "output_type": "stream",
          "name": "stderr",
          "text": [
            "[Train Epoch 6]: 100%|██████████| 844/844 [00:07<00:00, 114.28it/s, loss=0.0811]\n"
          ]
        },
        {
          "output_type": "stream",
          "name": "stdout",
          "text": [
            "Epoch 6 Summary | Train Loss: 0.0358 | Train Acc: 0.9882 | Eval Loss: 0.0473 | Eval Acc: 0.9847 | Time: 8.22s\n"
          ]
        },
        {
          "output_type": "stream",
          "name": "stderr",
          "text": [
            "[Train Epoch 7]: 100%|██████████| 844/844 [00:07<00:00, 107.74it/s, loss=0.00509]\n"
          ]
        },
        {
          "output_type": "stream",
          "name": "stdout",
          "text": [
            "Epoch 7 Summary | Train Loss: 0.0295 | Train Acc: 0.9903 | Eval Loss: 0.0434 | Eval Acc: 0.9877 | Time: 8.67s\n"
          ]
        },
        {
          "output_type": "stream",
          "name": "stderr",
          "text": [
            "[Train Epoch 8]: 100%|██████████| 844/844 [00:07<00:00, 113.69it/s, loss=0.00766]\n"
          ]
        },
        {
          "output_type": "stream",
          "name": "stdout",
          "text": [
            "Epoch 8 Summary | Train Loss: 0.0265 | Train Acc: 0.9910 | Eval Loss: 0.0360 | Eval Acc: 0.9897 | Time: 8.34s\n"
          ]
        },
        {
          "output_type": "stream",
          "name": "stderr",
          "text": [
            "[Train Epoch 9]: 100%|██████████| 844/844 [00:07<00:00, 112.37it/s, loss=0.0988]\n"
          ]
        },
        {
          "output_type": "stream",
          "name": "stdout",
          "text": [
            "Epoch 9 Summary | Train Loss: 0.0225 | Train Acc: 0.9927 | Eval Loss: 0.0393 | Eval Acc: 0.9888 | Time: 8.36s\n"
          ]
        },
        {
          "output_type": "stream",
          "name": "stderr",
          "text": [
            "[Train Epoch 10]: 100%|██████████| 844/844 [00:07<00:00, 107.23it/s, loss=0.0167]\n"
          ]
        },
        {
          "output_type": "stream",
          "name": "stdout",
          "text": [
            "Epoch 10 Summary | Train Loss: 0.0196 | Train Acc: 0.9936 | Eval Loss: 0.0382 | Eval Acc: 0.9895 | Time: 9.12s\n"
          ]
        },
        {
          "output_type": "stream",
          "name": "stderr",
          "text": [
            "[Train Epoch 11]: 100%|██████████| 844/844 [00:08<00:00, 102.07it/s, loss=0.0137]\n"
          ]
        },
        {
          "output_type": "stream",
          "name": "stdout",
          "text": [
            "Epoch 11 Summary | Train Loss: 0.0186 | Train Acc: 0.9941 | Eval Loss: 0.0386 | Eval Acc: 0.9913 | Time: 9.12s\n"
          ]
        },
        {
          "output_type": "stream",
          "name": "stderr",
          "text": [
            "[Train Epoch 12]: 100%|██████████| 844/844 [00:07<00:00, 110.70it/s, loss=0.0581]\n"
          ]
        },
        {
          "output_type": "stream",
          "name": "stdout",
          "text": [
            "Epoch 12 Summary | Train Loss: 0.0161 | Train Acc: 0.9946 | Eval Loss: 0.0485 | Eval Acc: 0.9875 | Time: 8.45s\n"
          ]
        },
        {
          "output_type": "stream",
          "name": "stderr",
          "text": [
            "[Train Epoch 13]: 100%|██████████| 844/844 [00:07<00:00, 109.45it/s, loss=0.0378]\n"
          ]
        },
        {
          "output_type": "stream",
          "name": "stdout",
          "text": [
            "Epoch 13 Summary | Train Loss: 0.0153 | Train Acc: 0.9949 | Eval Loss: 0.0436 | Eval Acc: 0.9895 | Time: 8.54s\n"
          ]
        },
        {
          "output_type": "stream",
          "name": "stderr",
          "text": [
            "[Train Epoch 14]: 100%|██████████| 844/844 [00:07<00:00, 113.65it/s, loss=0.0505]\n"
          ]
        },
        {
          "output_type": "stream",
          "name": "stdout",
          "text": [
            "Epoch 14 Summary | Train Loss: 0.0133 | Train Acc: 0.9956 | Eval Loss: 0.0442 | Eval Acc: 0.9905 | Time: 8.24s\n"
          ]
        },
        {
          "output_type": "stream",
          "name": "stderr",
          "text": [
            "[Train Epoch 15]: 100%|██████████| 844/844 [00:07<00:00, 114.23it/s, loss=0.0476]\n"
          ]
        },
        {
          "output_type": "stream",
          "name": "stdout",
          "text": [
            "Epoch 15 Summary | Train Loss: 0.0114 | Train Acc: 0.9962 | Eval Loss: 0.0409 | Eval Acc: 0.9905 | Time: 8.25s\n"
          ]
        },
        {
          "output_type": "stream",
          "name": "stderr",
          "text": [
            "[Train Epoch 16]: 100%|██████████| 844/844 [00:07<00:00, 108.15it/s, loss=0.00129]\n"
          ]
        },
        {
          "output_type": "stream",
          "name": "stdout",
          "text": [
            "Epoch 16 Summary | Train Loss: 0.0122 | Train Acc: 0.9960 | Eval Loss: 0.0579 | Eval Acc: 0.9870 | Time: 8.73s\n"
          ]
        },
        {
          "output_type": "stream",
          "name": "stderr",
          "text": [
            "[Train Epoch 17]: 100%|██████████| 844/844 [00:07<00:00, 112.09it/s, loss=0.000709]\n"
          ]
        },
        {
          "output_type": "stream",
          "name": "stdout",
          "text": [
            "Epoch 17 Summary | Train Loss: 0.0098 | Train Acc: 0.9967 | Eval Loss: 0.0456 | Eval Acc: 0.9898 | Time: 8.36s\n"
          ]
        },
        {
          "output_type": "stream",
          "name": "stderr",
          "text": [
            "[Train Epoch 18]: 100%|██████████| 844/844 [00:07<00:00, 111.08it/s, loss=0.00248]\n"
          ]
        },
        {
          "output_type": "stream",
          "name": "stdout",
          "text": [
            "Epoch 18 Summary | Train Loss: 0.0105 | Train Acc: 0.9964 | Eval Loss: 0.0534 | Eval Acc: 0.9905 | Time: 8.53s\n"
          ]
        },
        {
          "output_type": "stream",
          "name": "stderr",
          "text": [
            "[Train Epoch 19]: 100%|██████████| 844/844 [00:07<00:00, 112.51it/s, loss=0.00268]\n"
          ]
        },
        {
          "output_type": "stream",
          "name": "stdout",
          "text": [
            "Epoch 19 Summary | Train Loss: 0.0088 | Train Acc: 0.9974 | Eval Loss: 0.0472 | Eval Acc: 0.9892 | Time: 8.37s\n"
          ]
        },
        {
          "output_type": "stream",
          "name": "stderr",
          "text": [
            "[Train Epoch 20]: 100%|██████████| 844/844 [00:07<00:00, 113.63it/s, loss=4.46e-6]\n"
          ]
        },
        {
          "output_type": "stream",
          "name": "stdout",
          "text": [
            "Epoch 20 Summary | Train Loss: 0.0076 | Train Acc: 0.9974 | Eval Loss: 0.0447 | Eval Acc: 0.9907 | Time: 8.25s\n",
            "\n",
            "Finish training on time: 2.85 Min.\n"
          ]
        }
      ]
    },
    {
      "cell_type": "code",
      "source": [
        "epochs = range(1, NUM_EPOCHS + 1)\n",
        "\n",
        "plt.figure(figsize=(12, 5))\n",
        "\n",
        "# Plot Accuracy\n",
        "plt.subplot(1, 2, 1)\n",
        "plt.plot(epochs, train_accuracies, label='Train Accuracy')\n",
        "plt.plot(epochs, eval_accuracies, label='Eval Accuracy')\n",
        "plt.title(\"Accuracy per Epoch\")\n",
        "plt.xlabel(\"Epoch\")\n",
        "plt.ylabel(\"Accuracy\")\n",
        "plt.legend()\n",
        "plt.grid(True)\n",
        "\n",
        "# Plot Loss\n",
        "plt.subplot(1, 2, 2)\n",
        "plt.plot(epochs, train_losses, label='Train Loss')\n",
        "plt.plot(epochs, eval_losses, label='Eval Loss')\n",
        "plt.title(\"Loss per Epoch\")\n",
        "plt.xlabel(\"Epoch\")\n",
        "plt.ylabel(\"Loss\")\n",
        "plt.legend()\n",
        "plt.grid(True)\n",
        "\n",
        "plt.tight_layout()\n",
        "plt.show()"
      ],
      "metadata": {
        "colab": {
          "base_uri": "https://localhost:8080/",
          "height": 507
        },
        "id": "KQejpnxr3PME",
        "outputId": "57b2c372-7e3f-4302-fe9c-da0d01d3ab53"
      },
      "execution_count": 63,
      "outputs": [
        {
          "output_type": "display_data",
          "data": {
            "text/plain": [
              "<Figure size 1200x500 with 2 Axes>"
            ],
            "image/png": "[encoded data removed]"
          },
          "metadata": {}
        }
      ]
    },
    {
      "cell_type": "markdown",
      "source": [
        "## Evaluate"
      ],
      "metadata": {
        "id": "-yHerMGi4Oks"
      }
    },
    {
      "cell_type": "code",
      "source": [
        "import torch\n",
        "import os\n",
        "from sklearn.metrics import accuracy_score"
      ],
      "metadata": {
        "id": "Fktga2kK4T9c"
      },
      "execution_count": 64,
      "outputs": []
    },
    {
      "cell_type": "code",
      "source": [
        "model.eval()\n",
        "all_preds = []\n",
        "all_targets = []\n",
        "\n",
        "with torch.no_grad():\n",
        "    for images, labels in tqdm(test_loader, desc=\"Evaluating on Test Set\"):\n",
        "        images, labels = images.to(device), labels.to(device)\n",
        "        outputs = model(images)\n",
        "        preds = torch.argmax(outputs, dim=1)\n",
        "\n",
        "        all_preds.extend(preds.cpu().numpy())\n",
        "        all_targets.extend(labels.cpu().numpy())"
      ],
      "metadata": {
        "colab": {
          "base_uri": "https://localhost:8080/"
        },
        "id": "GJWY70184SB6",
        "outputId": "fa7a7648-5cc6-4ba2-d51a-68cc27505c4e"
      },
      "execution_count": 65,
      "outputs": [
        {
          "output_type": "stream",
          "name": "stderr",
          "text": [
            "Evaluating on Test Set: 100%|██████████| 157/157 [00:01<00:00, 112.52it/s]\n"
          ]
        }
      ]
    },
    {
      "cell_type": "code",
      "source": [
        "test_accuracy = accuracy_score(all_targets, all_preds)\n",
        "print(f\"🎯 Final Test Accuracy: {test_accuracy:.4f}\")"
      ],
      "metadata": {
        "colab": {
          "base_uri": "https://localhost:8080/"
        },
        "id": "FS9ezPIB4Yoe",
        "outputId": "635b0b26-6f30-490d-bd9c-ec15111c76ed"
      },
      "execution_count": 66,
      "outputs": [
        {
          "output_type": "stream",
          "name": "stdout",
          "text": [
            "🎯 Final Test Accuracy: 0.9902\n"
          ]
        }
      ]
    },
    {
      "cell_type": "code",
      "source": [
        "from sklearn.metrics import classification_report\n",
        "\n",
        "print(classification_report(all_targets, all_preds, digits=4))"
      ],
      "metadata": {
        "colab": {
          "base_uri": "https://localhost:8080/"
        },
        "id": "XMGlPQtUF4H1",
        "outputId": "99a11939-0b42-46dc-e846-7af64918e631"
      },
      "execution_count": 67,
      "outputs": [
        {
          "output_type": "stream",
          "name": "stdout",
          "text": [
            "              precision    recall  f1-score   support\n",
            "\n",
            "           0     0.9928    0.9908    0.9918       980\n",
            "           1     0.9921    0.9965    0.9943      1135\n",
            "           2     0.9875    0.9932    0.9903      1032\n",
            "           3     0.9882    0.9941    0.9911      1010\n",
            "           4     0.9908    0.9908    0.9908       982\n",
            "           5     0.9888    0.9877    0.9882       892\n",
            "           6     0.9916    0.9843    0.9880       958\n",
            "           7     0.9894    0.9942    0.9918      1028\n",
            "           8     0.9938    0.9836    0.9886       974\n",
            "           9     0.9871    0.9851    0.9861      1009\n",
            "\n",
            "    accuracy                         0.9902     10000\n",
            "   macro avg     0.9902    0.9900    0.9901     10000\n",
            "weighted avg     0.9902    0.9902    0.9902     10000\n",
            "\n"
          ]
        }
      ]
    },
    {
      "cell_type": "markdown",
      "source": [
        "## Confusion Matrix"
      ],
      "metadata": {
        "id": "hFji4IU3744C"
      }
    },
    {
      "cell_type": "code",
      "source": [
        "from sklearn.metrics import confusion_matrix, ConfusionMatrixDisplay\n",
        "\n",
        "cm = confusion_matrix(all_targets, all_preds)\n",
        "disp = ConfusionMatrixDisplay(confusion_matrix=cm, display_labels=list(range(10)))"
      ],
      "metadata": {
        "id": "_kuk2OPk720v"
      },
      "execution_count": 68,
      "outputs": []
    },
    {
      "cell_type": "code",
      "source": [
        "fig, ax = plt.subplots(figsize=(8, 8))\n",
        "disp.plot(ax=ax, cmap=\"Blues\", colorbar=False)\n",
        "plt.title(\"Confusion Matrix - MNIST\", fontsize=16)\n",
        "plt.show()"
      ],
      "metadata": {
        "colab": {
          "base_uri": "https://localhost:8080/",
          "height": 720
        },
        "id": "bRWNjWOY8Ax6",
        "outputId": "6b8df4b9-1a7c-465e-ac7d-fd2f364cb754"
      },
      "execution_count": 69,
      "outputs": [
        {
          "output_type": "display_data",
          "data": {
            "text/plain": [
              "<Figure size 800x800 with 1 Axes>"
            ],
            "image/png": "[encoded data removed]"
          },
          "metadata": {}
        }
      ]
    },
    {
      "cell_type": "markdown",
      "source": [
        "## Random Inference"
      ],
      "metadata": {
        "id": "o3hv2j6r8DhZ"
      }
    },
    {
      "cell_type": "code",
      "source": [
        "import random\n",
        "import numpy as np\n",
        "\n",
        "def infer_random_images(model, dataset, n=5):\n",
        "    model.eval()\n",
        "    plt.figure(figsize=(15, 3))\n",
        "    for i in range(n):\n",
        "        idx = random.randint(0, len(dataset) - 1)\n",
        "        image, label = dataset[idx]\n",
        "        input_tensor = image.unsqueeze(0).to(device)\n",
        "\n",
        "        with torch.no_grad():\n",
        "            output = model(input_tensor)\n",
        "            pred = output.argmax(dim=1).item()\n",
        "\n",
        "        plt.subplot(1, n, i+1)\n",
        "        plt.imshow(image.squeeze(0), cmap=\"gray\")\n",
        "        plt.title(f\"GT: {label}\\nPred: {pred}\", fontsize=12, color='green' if pred == label else 'red')\n",
        "        plt.axis(\"off\")\n",
        "    plt.suptitle(\"Inference\", fontsize=16)\n",
        "    plt.tight_layout()\n",
        "    plt.show()"
      ],
      "metadata": {
        "id": "D2-9vGwv8DEk"
      },
      "execution_count": 70,
      "outputs": []
    },
    {
      "cell_type": "code",
      "source": [
        "infer_random_images(model, test_dataset, n=10)"
      ],
      "metadata": {
        "colab": {
          "base_uri": "https://localhost:8080/",
          "height": 265
        },
        "id": "AM55-0RJ8GWG",
        "outputId": "66b7dcdf-32a1-4f81-89f6-d0f2e478a21b"
      },
      "execution_count": 71,
      "outputs": [
        {
          "output_type": "display_data",
          "data": {
            "text/plain": [
              "<Figure size 1500x300 with 10 Axes>"
            ],
            "image/png": "[encoded data removed]"
          },
          "metadata": {}
        }
      ]
    },
    {
      "cell_type": "markdown",
      "source": [
        "### Export Model"
      ],
      "metadata": {
        "id": "KXGSY9M54aEz"
      }
    },
    {
      "cell_type": "code",
      "source": [
        "!pwd"
      ],
      "metadata": {
        "id": "f0gOUtRU4x15"
      },
      "execution_count": null,
      "outputs": []
    },
    {
      "cell_type": "code",
      "source": [
        "\n",
        "save_dir = \"saved_models\"\n",
        "os.makedirs(save_dir, exist_ok=True)\n",
        "model_path = os.path.join(save_dir, \"lenet5_mnist.pt\")\n",
        "torch.save(model.state_dict(), model_path)\n",
        "print(f\"Model Saved at {model_path}\")"
      ],
      "metadata": {
        "colab": {
          "base_uri": "https://localhost:8080/"
        },
        "id": "lLJN-SmM4Zgo",
        "outputId": "df6e2ed3-ba1b-4424-ea2c-bb6604e024b6"
      },
      "execution_count": 73,
      "outputs": [
        {
          "output_type": "stream",
          "name": "stdout",
          "text": [
            "Model Saved at saved_models/lenet5_mnist.pt\n"
          ]
        }
      ]
    },
    {
      "cell_type": "markdown",
      "source": [
        "## Load Model"
      ],
      "metadata": {
        "id": "BLRI28Cf4tYr"
      }
    },
    {
      "cell_type": "code",
      "source": [
        "model = LeNet5(num_classes=10)\n",
        "model.load_state_dict(torch.load(f\"{project_dir}/saved_models/lenet5_mnist.pt\"))"
      ],
      "metadata": {
        "colab": {
          "base_uri": "https://localhost:8080/"
        },
        "id": "2QOez9ne4tLW",
        "outputId": "ff18ee54-85d7-4cd8-af0c-4e05125c0806"
      },
      "execution_count": 74,
      "outputs": [
        {
          "output_type": "execute_result",
          "data": {
            "text/plain": [
              "<All keys matched successfully>"
            ]
          },
          "metadata": {},
          "execution_count": 74
        }
      ]
    },
    {
      "cell_type": "code",
      "source": [
        "model.eval()"
      ],
      "metadata": {
        "colab": {
          "base_uri": "https://localhost:8080/"
        },
        "id": "7YSEUafYDapm",
        "outputId": "6a470265-ba9c-48f6-9379-8d1d4f22f81e"
      },
      "execution_count": 75,
      "outputs": [
        {
          "output_type": "execute_result",
          "data": {
            "text/plain": [
              "LeNet5(\n",
              "  (conv1): Conv2d(1, 6, kernel_size=(5, 5), stride=(1, 1))\n",
              "  (pool1): AvgPool2d(kernel_size=2, stride=2, padding=0)\n",
              "  (conv2): Conv2d(6, 16, kernel_size=(5, 5), stride=(1, 1))\n",
              "  (pool2): AvgPool2d(kernel_size=2, stride=2, padding=0)\n",
              "  (conv3): Conv2d(16, 120, kernel_size=(5, 5), stride=(1, 1))\n",
              "  (fc1): Linear(in_features=120, out_features=84, bias=True)\n",
              "  (fc2): Linear(in_features=84, out_features=10, bias=True)\n",
              ")"
            ]
          },
          "metadata": {},
          "execution_count": 75
        }
      ]
    }
  ]
}