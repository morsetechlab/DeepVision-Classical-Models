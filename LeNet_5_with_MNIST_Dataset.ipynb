{
  "nbformat": 4,
  "nbformat_minor": 0,
  "metadata": {
    "colab": {
      "provenance": [],
      "machine_shape": "hm",
      "gpuType": "T4",
      "toc_visible": true
    },
    "kernelspec": {
      "name": "python3",
      "display_name": "Python 3"
    },
    "language_info": {
      "name": "python"
    },
    "accelerator": "GPU"
  },
  "cells": [
    {
      "cell_type": "markdown",
      "source": [
        "## Setup Environments"
      ],
      "metadata": {
        "id": "4nggu1EKyV6L"
      }
    },
    {
      "cell_type": "markdown",
      "source": [
        "### Mount Drive and Setup Project Directory"
      ],
      "metadata": {
        "id": "MgI4TOswyh6Z"
      }
    },
    {
      "cell_type": "code",
      "source": [
        "from google.colab import drive\n",
        "drive.mount('/content/drive')"
      ],
      "metadata": {
        "id": "5HHusz3Ny4Vg",
        "colab": {
          "base_uri": "https://localhost:8080/"
        },
        "outputId": "0f06d488-3204-4412-d79f-8a2ee789559e"
      },
      "execution_count": null,
      "outputs": [
        {
          "output_type": "stream",
          "name": "stdout",
          "text": [
            "Mounted at /content/drive\n"
          ]
        }
      ]
    },
    {
      "cell_type": "code",
      "source": [
        "project_dir=\"your-project-directory\""
      ],
      "metadata": {
        "id": "udT0Ym-3zOkj"
      },
      "execution_count": null,
      "outputs": []
    },
    {
      "cell_type": "code",
      "source": [
        "project_dir=\"/content/drive/MyDrive/Colab Notebooks/Classical Deep Learning Implements\""
      ],
      "metadata": {
        "id": "3lGjc_mfO9HE"
      },
      "execution_count": null,
      "outputs": []
    },
    {
      "cell_type": "code",
      "source": [
        "%cd {project_dir}"
      ],
      "metadata": {
        "id": "zIy1-YN7zugX",
        "colab": {
          "base_uri": "https://localhost:8080/"
        },
        "outputId": "12bdd6ba-5d72-432e-8ee1-15ab1cea9049"
      },
      "execution_count": null,
      "outputs": [
        {
          "output_type": "stream",
          "name": "stdout",
          "text": [
            "/content/drive/MyDrive/Colab Notebooks/Classical Deep Learning Implements\n"
          ]
        }
      ]
    },
    {
      "cell_type": "code",
      "source": [
        "!pwd"
      ],
      "metadata": {
        "id": "CCXHlnL_zxSt",
        "colab": {
          "base_uri": "https://localhost:8080/"
        },
        "outputId": "dbbbaee0-1cdd-4a02-9d45-06e346f06c02"
      },
      "execution_count": null,
      "outputs": [
        {
          "output_type": "stream",
          "name": "stdout",
          "text": [
            "/content/drive/MyDrive/Colab Notebooks/Classical Deep Learning Implements\n"
          ]
        }
      ]
    },
    {
      "cell_type": "code",
      "source": [
        "# GPU Check\n",
        "import torch\n",
        "\n",
        "device = torch.device(\"cuda\" if torch.cuda.is_available() else \"cpu\")\n",
        "print(\"Using device:\", device, f\"({torch.cuda.get_device_name(0)})\" if torch.cuda.is_available() else \"\")"
      ],
      "metadata": {
        "colab": {
          "base_uri": "https://localhost:8080/"
        },
        "id": "ccIIUfjTr-W4",
        "outputId": "3f328a31-8292-4aa4-88a0-b67852df8a42"
      },
      "execution_count": null,
      "outputs": [
        {
          "output_type": "stream",
          "name": "stdout",
          "text": [
            "Using device: cuda (Tesla T4)\n"
          ]
        }
      ]
    },
    {
      "cell_type": "code",
      "source": [
        "!nvidia-smi"
      ],
      "metadata": {
        "colab": {
          "base_uri": "https://localhost:8080/"
        },
        "id": "J3d6692hswMB",
        "outputId": "eae57c69-3713-4bc4-a799-50a2ff6201c5"
      },
      "execution_count": null,
      "outputs": [
        {
          "output_type": "stream",
          "name": "stdout",
          "text": [
            "Sat May 24 14:07:12 2025       \n",
            "+-----------------------------------------------------------------------------------------+\n",
            "| NVIDIA-SMI 550.54.15              Driver Version: 550.54.15      CUDA Version: 12.4     |\n",
            "|-----------------------------------------+------------------------+----------------------+\n",
            "| GPU  Name                 Persistence-M | Bus-Id          Disp.A | Volatile Uncorr. ECC |\n",
            "| Fan  Temp   Perf          Pwr:Usage/Cap |           Memory-Usage | GPU-Util  Compute M. |\n",
            "|                                         |                        |               MIG M. |\n",
            "|=========================================+========================+======================|\n",
            "|   0  Tesla T4                       Off |   00000000:00:04.0 Off |                    0 |\n",
            "| N/A   36C    P8             12W /   70W |       2MiB /  15360MiB |      0%      Default |\n",
            "|                                         |                        |                  N/A |\n",
            "+-----------------------------------------+------------------------+----------------------+\n",
            "                                                                                         \n",
            "+-----------------------------------------------------------------------------------------+\n",
            "| Processes:                                                                              |\n",
            "|  GPU   GI   CI        PID   Type   Process name                              GPU Memory |\n",
            "|        ID   ID                                                               Usage      |\n",
            "|=========================================================================================|\n",
            "|  No running processes found                                                             |\n",
            "+-----------------------------------------------------------------------------------------+\n"
          ]
        }
      ]
    },
    {
      "cell_type": "markdown",
      "source": [
        "## MNIST Dataset"
      ],
      "metadata": {
        "id": "gwOIv4KMz3CP"
      }
    },
    {
      "cell_type": "code",
      "source": [
        "from torchvision.datasets import MNIST\n",
        "from torchvision import transforms\n",
        "from torch.utils.data import random_split, DataLoader\n",
        "import matplotlib.pyplot as plt"
      ],
      "metadata": {
        "id": "7hhZM6KWvy07"
      },
      "execution_count": null,
      "outputs": []
    },
    {
      "cell_type": "code",
      "source": [
        "# Create transform to resize (32, 32) and Normalize [-1, 1]\n",
        "transform = transforms.Compose([\n",
        "    transforms.Resize((32, 32)), # LeNet-5 ใช้ 32×32\n",
        "    transforms.ToTensor(),\n",
        "    transforms.Normalize((0.5,), (0.5,)) # ทำให้ภาพอยู่ในช่วง [-1, 1]\n",
        "])"
      ],
      "metadata": {
        "id": "hjNkWbtrv0td"
      },
      "execution_count": null,
      "outputs": []
    },
    {
      "cell_type": "code",
      "source": [
        "# Load MNIST\n",
        "train_val_dataset = MNIST(root=\"data\", train=True, download=True, transform=transform)\n",
        "test_dataset = MNIST(root=\"data\", train=False, download=True, transform=transform)"
      ],
      "metadata": {
        "id": "nBZw0KC2v9Jr"
      },
      "execution_count": null,
      "outputs": []
    },
    {
      "cell_type": "code",
      "source": [
        "# Split training / eval set (90% / 10%)\n",
        "train_len = int(len(train_val_dataset) * 0.9)\n",
        "eval_len = len(train_val_dataset) - train_len\n",
        "train_dataset, eval_dataset = random_split(train_val_dataset, [train_len, eval_len])"
      ],
      "metadata": {
        "id": "DWnRxlQqwDHE"
      },
      "execution_count": null,
      "outputs": []
    },
    {
      "cell_type": "code",
      "source": [
        "print(f\"Dataset Split:\\n - Train: {len(train_dataset)}\\n - Eval: {len(eval_dataset)}\\n - Test: {len(test_dataset)}\")"
      ],
      "metadata": {
        "colab": {
          "base_uri": "https://localhost:8080/"
        },
        "id": "VuXnilelSr6T",
        "outputId": "eb8d2f08-5e90-438b-e3de-6583eb12a529"
      },
      "execution_count": null,
      "outputs": [
        {
          "output_type": "stream",
          "name": "stdout",
          "text": [
            "Dataset Split:\n",
            " - Train: 54000\n",
            " - Eval: 6000\n",
            " - Test: 10000\n"
          ]
        }
      ]
    },
    {
      "cell_type": "markdown",
      "source": [
        "### Display MNIST Dataset"
      ],
      "metadata": {
        "id": "QNBzcd8zS-ne"
      }
    },
    {
      "cell_type": "code",
      "source": [
        "def show_mnist_before_after_aligned(before_dataset, after_dataset, indices=None, num_images=10):\n",
        "    if indices is None:\n",
        "        indices = list(range(num_images))\n",
        "\n",
        "    plt.figure(figsize=(num_images * 1.3, 4))\n",
        "\n",
        "    for i, idx in enumerate(indices):\n",
        "        image_before, label_before = before_dataset[idx]\n",
        "        image_after, label_after = after_dataset[idx]\n",
        "\n",
        "        # BEFORE (raw pixel)\n",
        "        plt.subplot(2, num_images, i + 1)\n",
        "        plt.imshow(image_before, cmap=\"gray\")\n",
        "        plt.title(f\"Before\\n{label_before}\")\n",
        "        plt.axis(\"off\")\n",
        "\n",
        "        # AFTER (transformed)\n",
        "        image_after_np = image_after.squeeze(0).numpy()\n",
        "        plt.subplot(2, num_images, num_images + i + 1)\n",
        "        plt.imshow(image_after_np, cmap=\"gray\")\n",
        "        plt.title(f\"After\\n{label_after}\")\n",
        "        plt.axis(\"off\")\n",
        "\n",
        "    plt.suptitle(\"MNIST: Before vs After Transform (Same Image)\", fontsize=16)\n",
        "    plt.tight_layout()\n",
        "    plt.show()"
      ],
      "metadata": {
        "id": "BnWBtfjE1GB6"
      },
      "execution_count": null,
      "outputs": []
    },
    {
      "cell_type": "code",
      "source": [
        "# โหลด Before dataset (ไม่มี transform)\n",
        "mnist_before = MNIST(root=\"data\", train=True, download=False, transform=None)\n",
        "\n",
        "# after = dataset ที่ผ่าน resize(32,32) + normalize แล้ว\n",
        "mnist_after = train_val_dataset"
      ],
      "metadata": {
        "id": "dQHLkYl3neCl"
      },
      "execution_count": null,
      "outputs": []
    },
    {
      "cell_type": "code",
      "source": [
        "# ดึงภาพ 10 ภาพแรก (index 0–9) เพื่อเปรียบเทียบ\n",
        "show_mnist_before_after_aligned(mnist_before, mnist_after, indices=list(range(10)))"
      ],
      "metadata": {
        "colab": {
          "base_uri": "https://localhost:8080/",
          "height": 332
        },
        "id": "7l0ylvZangOU",
        "outputId": "00673061-a0ec-4b1b-aee2-0402e9ecfbef"
      },
      "execution_count": null,
      "outputs": [
        {
          "output_type": "display_data",
          "data": {
            "text/plain": [
              "<Figure size 1300x400 with 20 Axes>"
            ],
            "image/png": "[encoded data removed]"
          },
          "metadata": {}
        }
      ]
    },
    {
      "cell_type": "markdown",
      "source": [
        "### DataLoder"
      ],
      "metadata": {
        "id": "uBxQPSAt0-Fh"
      }
    },
    {
      "cell_type": "code",
      "source": [
        "# set batch size\n",
        "BATCH_SIZE = 64\n",
        "\n",
        "# Load dataset\n",
        "train_loader = DataLoader(train_dataset, batch_size=BATCH_SIZE, shuffle=True, num_workers=2)\n",
        "eval_loader = DataLoader(eval_dataset, batch_size=BATCH_SIZE, shuffle=False, num_workers=2)\n",
        "test_loader = DataLoader(test_dataset, batch_size=BATCH_SIZE, shuffle=False, num_workers=2)"
      ],
      "metadata": {
        "id": "puc0QfOC070h"
      },
      "execution_count": null,
      "outputs": []
    },
    {
      "cell_type": "markdown",
      "source": [
        "## Define LeNet5 Architecture"
      ],
      "metadata": {
        "id": "oXqZy3gm2qCA"
      }
    },
    {
      "cell_type": "code",
      "source": [
        "import torch.nn as nn\n",
        "import torch.nn.functional as F\n",
        "\n",
        "class LeNet5(nn.Module):\n",
        "    def __init__(self, num_classes=10):\n",
        "        super(LeNet5, self).__init__()\n",
        "\n",
        "        # Feature Extractor (Backbone)\n",
        "        self.conv1 = nn.Conv2d(1, 6, kernel_size=5) # gray scale input, 6 features\n",
        "        self.pool1 = nn.AvgPool2d(kernel_size=2, stride=2) # downsampling with average pooling\n",
        "        self.conv2 = nn.Conv2d(6, 16, kernel_size=5) # 16 features\n",
        "        self.pool2 = nn.AvgPool2d(kernel_size=2, stride=2) # downsampling with average pooling\n",
        "        self.conv3 = nn.Conv2d(16, 120, kernel_size=5) # 120 features\n",
        "\n",
        "        # Classifier (Fully Connected)\n",
        "        self.fc1 = nn.Linear(120, 84) # 120 vectors to 84 neurons\n",
        "        self.fc2 = nn.Linear(84, num_classes) # 84 neurons to 10 classes\n",
        "\n",
        "    def forward(self, x):\n",
        "        # input = [1, 32, 32]\n",
        "\n",
        "        # Feature Extractor (Backbone)\n",
        "        x = F.relu(self.conv1(x)) # Conv + ReLU\n",
        "        x = self.pool1(x) # AvgPool\n",
        "        x = F.relu(self.conv2(x))\n",
        "        x = self.pool2(x)\n",
        "        x = F.relu(self.conv3(x)) # Output: [batch, 120, 1, 1]\n",
        "\n",
        "        # Classifier (Fully Connected)\n",
        "        x = x.view(x.size(0), -1) # flatten เป็น [batch, 120]\n",
        "        x = F.relu(self.fc1(x))\n",
        "        x = self.fc2(x)\n",
        "        return x"
      ],
      "metadata": {
        "id": "S7JxEeIH2hUw"
      },
      "execution_count": null,
      "outputs": []
    },
    {
      "cell_type": "code",
      "source": [
        "# Create a Model\n",
        "model = LeNet5().to(device) # move to GPU"
      ],
      "metadata": {
        "id": "lpPmlAUsxEVf"
      },
      "execution_count": null,
      "outputs": []
    },
    {
      "cell_type": "markdown",
      "source": [
        "#### Model Summary"
      ],
      "metadata": {
        "id": "mHFgaqqtCUf5"
      }
    },
    {
      "cell_type": "code",
      "source": [
        "!pip install -q torchsummary"
      ],
      "metadata": {
        "id": "PmvTVAK3CH7x"
      },
      "execution_count": null,
      "outputs": []
    },
    {
      "cell_type": "code",
      "source": [
        "from torchsummary import summary\n",
        "summary(model, input_size=(1, 32, 32))\n"
      ],
      "metadata": {
        "colab": {
          "base_uri": "https://localhost:8080/"
        },
        "id": "ZYML7uqPCRVU",
        "outputId": "5e70b41f-18a4-4a0f-8055-5e6deec00601"
      },
      "execution_count": null,
      "outputs": [
        {
          "output_type": "stream",
          "name": "stdout",
          "text": [
            "----------------------------------------------------------------\n",
            "        Layer (type)               Output Shape         Param #\n",
            "================================================================\n",
            "            Conv2d-1            [-1, 6, 28, 28]             156\n",
            "         AvgPool2d-2            [-1, 6, 14, 14]               0\n",
            "            Conv2d-3           [-1, 16, 10, 10]           2,416\n",
            "         AvgPool2d-4             [-1, 16, 5, 5]               0\n",
            "            Conv2d-5            [-1, 120, 1, 1]          48,120\n",
            "            Linear-6                   [-1, 84]          10,164\n",
            "            Linear-7                   [-1, 10]             850\n",
            "================================================================\n",
            "Total params: 61,706\n",
            "Trainable params: 61,706\n",
            "Non-trainable params: 0\n",
            "----------------------------------------------------------------\n",
            "Input size (MB): 0.00\n",
            "Forward/backward pass size (MB): 0.06\n",
            "Params size (MB): 0.24\n",
            "Estimated Total Size (MB): 0.30\n",
            "----------------------------------------------------------------\n"
          ]
        }
      ]
    },
    {
      "cell_type": "markdown",
      "source": [
        "## Training Loop"
      ],
      "metadata": {
        "id": "vcHjXuNvDVqL"
      }
    },
    {
      "cell_type": "code",
      "source": [
        "import torch\n",
        "import torch.nn as nn\n",
        "import torch.optim as optim\n",
        "from tqdm import tqdm\n",
        "import time"
      ],
      "metadata": {
        "id": "5Tuc7EXxDVbb"
      },
      "execution_count": null,
      "outputs": []
    },
    {
      "cell_type": "code",
      "source": [
        "# Loss และ Optimizer\n",
        "criterion = nn.CrossEntropyLoss()\n",
        "optimizer = optim.Adam(model.parameters(), lr=0.001)"
      ],
      "metadata": {
        "id": "YmA3_HeACWEn"
      },
      "execution_count": null,
      "outputs": []
    },
    {
      "cell_type": "code",
      "source": [
        "# Helper to Calculate Accuracy\n",
        "def calculate_accuracy(y_pred, y_true):\n",
        "    _, predicted = torch.max(y_pred, 1)\n",
        "    correct = (predicted == y_true).sum().item()\n",
        "    return correct / len(y_true)"
      ],
      "metadata": {
        "id": "OjE-t2TPDieT"
      },
      "execution_count": null,
      "outputs": []
    },
    {
      "cell_type": "code",
      "source": [
        "# Logging\n",
        "train_losses, eval_losses = [], []\n",
        "train_accuracies, eval_accuracies = [], []"
      ],
      "metadata": {
        "id": "KJquWLGSDjrO"
      },
      "execution_count": null,
      "outputs": []
    },
    {
      "cell_type": "code",
      "source": [
        "# epochs\n",
        "NUM_EPOCHS = 20"
      ],
      "metadata": {
        "id": "dgwAvO4rDrba"
      },
      "execution_count": null,
      "outputs": []
    },
    {
      "cell_type": "code",
      "source": [
        "total_start_time = time.time()\n",
        "\n",
        "for epoch in range(NUM_EPOCHS):\n",
        "    start_time = time.time()\n",
        "\n",
        "    # ---- TRAIN ----\n",
        "    model.train()\n",
        "    running_loss = 0.0\n",
        "    running_correct = 0\n",
        "    total = 0\n",
        "\n",
        "    train_loop = tqdm(train_loader, desc=f\"[Train Epoch {epoch+1}]\")\n",
        "    for inputs, labels in train_loop:\n",
        "        inputs, labels = inputs.to(device), labels.to(device)\n",
        "\n",
        "        optimizer.zero_grad()\n",
        "        outputs = model(inputs)\n",
        "        loss = criterion(outputs, labels)\n",
        "        loss.backward()\n",
        "        optimizer.step()\n",
        "\n",
        "        # Logging\n",
        "        running_loss += loss.item() * inputs.size(0)\n",
        "        running_correct += (outputs.argmax(1) == labels).sum().item()\n",
        "        total += labels.size(0)\n",
        "\n",
        "        train_loop.set_postfix(loss=loss.item())\n",
        "\n",
        "    train_loss = running_loss / total\n",
        "    train_acc = running_correct / total\n",
        "    train_losses.append(train_loss)\n",
        "    train_accuracies.append(train_acc)\n",
        "\n",
        "    # ---- EVAL ----\n",
        "    model.eval()\n",
        "    eval_loss = 0.0\n",
        "    eval_correct = 0\n",
        "    eval_total = 0\n",
        "\n",
        "    with torch.no_grad():\n",
        "        for inputs, labels in eval_loader:\n",
        "            inputs, labels = inputs.to(device), labels.to(device)\n",
        "            outputs = model(inputs)\n",
        "            loss = criterion(outputs, labels)\n",
        "\n",
        "            eval_loss += loss.item() * inputs.size(0)\n",
        "            eval_correct += (outputs.argmax(1) == labels).sum().item()\n",
        "            eval_total += labels.size(0)\n",
        "\n",
        "    eval_loss = eval_loss / eval_total\n",
        "    eval_acc = eval_correct / eval_total\n",
        "    eval_losses.append(eval_loss)\n",
        "    eval_accuracies.append(eval_acc)\n",
        "\n",
        "    end_time = time.time()\n",
        "    print(f\"Epoch {epoch+1} Summary | Train Loss: {train_loss:.4f} | Train Acc: {train_acc:.4f} | Eval Loss: {eval_loss:.4f} | Eval Acc: {eval_acc:.4f} | Time: {end_time - start_time:.2f}s\")\n",
        "\n",
        "total_time = time.time() - total_start_time\n",
        "print(f\"\\nFinish training on time: {total_time/60:.2f} Min.\")"
      ],
      "metadata": {
        "colab": {
          "base_uri": "https://localhost:8080/"
        },
        "id": "2whRShP1DvSP",
        "outputId": "80c6a1e0-cf09-4ec8-f186-19061c37407d"
      },
      "execution_count": null,
      "outputs": [
        {
          "output_type": "stream",
          "name": "stderr",
          "text": [
            "[Train Epoch 1]: 100%|██████████| 844/844 [00:10<00:00, 81.71it/s, loss=0.0351] \n"
          ]
        },
        {
          "output_type": "stream",
          "name": "stdout",
          "text": [
            "Epoch 1 Summary | Train Loss: 0.3030 | Train Acc: 0.9062 | Eval Loss: 0.0937 | Eval Acc: 0.9718 | Time: 11.38s\n"
          ]
        },
        {
          "output_type": "stream",
          "name": "stderr",
          "text": [
            "[Train Epoch 2]: 100%|██████████| 844/844 [00:08<00:00, 93.88it/s, loss=0.0391]\n"
          ]
        },
        {
          "output_type": "stream",
          "name": "stdout",
          "text": [
            "Epoch 2 Summary | Train Loss: 0.0767 | Train Acc: 0.9763 | Eval Loss: 0.0720 | Eval Acc: 0.9762 | Time: 9.92s\n"
          ]
        },
        {
          "output_type": "stream",
          "name": "stderr",
          "text": [
            "[Train Epoch 3]: 100%|██████████| 844/844 [00:08<00:00, 96.78it/s, loss=0.00873]\n"
          ]
        },
        {
          "output_type": "stream",
          "name": "stdout",
          "text": [
            "Epoch 3 Summary | Train Loss: 0.0553 | Train Acc: 0.9831 | Eval Loss: 0.0524 | Eval Acc: 0.9828 | Time: 9.78s\n"
          ]
        },
        {
          "output_type": "stream",
          "name": "stderr",
          "text": [
            "[Train Epoch 4]: 100%|██████████| 844/844 [00:08<00:00, 93.94it/s, loss=0.0124]\n"
          ]
        },
        {
          "output_type": "stream",
          "name": "stdout",
          "text": [
            "Epoch 4 Summary | Train Loss: 0.0427 | Train Acc: 0.9864 | Eval Loss: 0.0468 | Eval Acc: 0.9870 | Time: 9.99s\n"
          ]
        },
        {
          "output_type": "stream",
          "name": "stderr",
          "text": [
            "[Train Epoch 5]: 100%|██████████| 844/844 [00:09<00:00, 90.98it/s, loss=0.117] \n"
          ]
        },
        {
          "output_type": "stream",
          "name": "stdout",
          "text": [
            "Epoch 5 Summary | Train Loss: 0.0365 | Train Acc: 0.9886 | Eval Loss: 0.0503 | Eval Acc: 0.9852 | Time: 10.23s\n"
          ]
        },
        {
          "output_type": "stream",
          "name": "stderr",
          "text": [
            "[Train Epoch 6]: 100%|██████████| 844/844 [00:09<00:00, 93.77it/s, loss=0.0101]\n"
          ]
        },
        {
          "output_type": "stream",
          "name": "stdout",
          "text": [
            "Epoch 6 Summary | Train Loss: 0.0312 | Train Acc: 0.9904 | Eval Loss: 0.0529 | Eval Acc: 0.9837 | Time: 9.98s\n"
          ]
        },
        {
          "output_type": "stream",
          "name": "stderr",
          "text": [
            "[Train Epoch 7]: 100%|██████████| 844/844 [00:09<00:00, 92.67it/s, loss=0.112]\n"
          ]
        },
        {
          "output_type": "stream",
          "name": "stdout",
          "text": [
            "Epoch 7 Summary | Train Loss: 0.0263 | Train Acc: 0.9916 | Eval Loss: 0.0426 | Eval Acc: 0.9877 | Time: 10.08s\n"
          ]
        },
        {
          "output_type": "stream",
          "name": "stderr",
          "text": [
            "[Train Epoch 8]: 100%|██████████| 844/844 [00:08<00:00, 95.60it/s, loss=0.00082]\n"
          ]
        },
        {
          "output_type": "stream",
          "name": "stdout",
          "text": [
            "Epoch 8 Summary | Train Loss: 0.0232 | Train Acc: 0.9929 | Eval Loss: 0.0436 | Eval Acc: 0.9873 | Time: 9.88s\n"
          ]
        },
        {
          "output_type": "stream",
          "name": "stderr",
          "text": [
            "[Train Epoch 9]: 100%|██████████| 844/844 [00:08<00:00, 94.58it/s, loss=0.0289] \n"
          ]
        },
        {
          "output_type": "stream",
          "name": "stdout",
          "text": [
            "Epoch 9 Summary | Train Loss: 0.0203 | Train Acc: 0.9936 | Eval Loss: 0.0391 | Eval Acc: 0.9895 | Time: 9.85s\n"
          ]
        },
        {
          "output_type": "stream",
          "name": "stderr",
          "text": [
            "[Train Epoch 10]: 100%|██████████| 844/844 [00:09<00:00, 93.19it/s, loss=0.112] \n"
          ]
        },
        {
          "output_type": "stream",
          "name": "stdout",
          "text": [
            "Epoch 10 Summary | Train Loss: 0.0183 | Train Acc: 0.9942 | Eval Loss: 0.0400 | Eval Acc: 0.9888 | Time: 10.01s\n"
          ]
        },
        {
          "output_type": "stream",
          "name": "stderr",
          "text": [
            "[Train Epoch 11]: 100%|██████████| 844/844 [00:09<00:00, 92.94it/s, loss=0.00159] \n"
          ]
        },
        {
          "output_type": "stream",
          "name": "stdout",
          "text": [
            "Epoch 11 Summary | Train Loss: 0.0171 | Train Acc: 0.9944 | Eval Loss: 0.0395 | Eval Acc: 0.9903 | Time: 10.05s\n"
          ]
        },
        {
          "output_type": "stream",
          "name": "stderr",
          "text": [
            "[Train Epoch 12]: 100%|██████████| 844/844 [00:08<00:00, 94.17it/s, loss=0.00392]\n"
          ]
        },
        {
          "output_type": "stream",
          "name": "stdout",
          "text": [
            "Epoch 12 Summary | Train Loss: 0.0144 | Train Acc: 0.9953 | Eval Loss: 0.0365 | Eval Acc: 0.9905 | Time: 10.03s\n"
          ]
        },
        {
          "output_type": "stream",
          "name": "stderr",
          "text": [
            "[Train Epoch 13]: 100%|██████████| 844/844 [00:08<00:00, 94.94it/s, loss=0.00207]\n"
          ]
        },
        {
          "output_type": "stream",
          "name": "stdout",
          "text": [
            "Epoch 13 Summary | Train Loss: 0.0145 | Train Acc: 0.9953 | Eval Loss: 0.0386 | Eval Acc: 0.9895 | Time: 9.96s\n"
          ]
        },
        {
          "output_type": "stream",
          "name": "stderr",
          "text": [
            "[Train Epoch 14]: 100%|██████████| 844/844 [00:08<00:00, 94.61it/s, loss=0.0195]\n"
          ]
        },
        {
          "output_type": "stream",
          "name": "stdout",
          "text": [
            "Epoch 14 Summary | Train Loss: 0.0115 | Train Acc: 0.9964 | Eval Loss: 0.0531 | Eval Acc: 0.9863 | Time: 9.91s\n"
          ]
        },
        {
          "output_type": "stream",
          "name": "stderr",
          "text": [
            "[Train Epoch 15]: 100%|██████████| 844/844 [00:09<00:00, 90.51it/s, loss=0.00816]\n"
          ]
        },
        {
          "output_type": "stream",
          "name": "stdout",
          "text": [
            "Epoch 15 Summary | Train Loss: 0.0115 | Train Acc: 0.9959 | Eval Loss: 0.0403 | Eval Acc: 0.9908 | Time: 10.23s\n"
          ]
        },
        {
          "output_type": "stream",
          "name": "stderr",
          "text": [
            "[Train Epoch 16]: 100%|██████████| 844/844 [00:09<00:00, 93.22it/s, loss=0.00121]\n"
          ]
        },
        {
          "output_type": "stream",
          "name": "stdout",
          "text": [
            "Epoch 16 Summary | Train Loss: 0.0100 | Train Acc: 0.9968 | Eval Loss: 0.0502 | Eval Acc: 0.9905 | Time: 10.02s\n"
          ]
        },
        {
          "output_type": "stream",
          "name": "stderr",
          "text": [
            "[Train Epoch 17]: 100%|██████████| 844/844 [00:09<00:00, 93.75it/s, loss=0.000417] \n"
          ]
        },
        {
          "output_type": "stream",
          "name": "stdout",
          "text": [
            "Epoch 17 Summary | Train Loss: 0.0090 | Train Acc: 0.9970 | Eval Loss: 0.0383 | Eval Acc: 0.9902 | Time: 9.97s\n"
          ]
        },
        {
          "output_type": "stream",
          "name": "stderr",
          "text": [
            "[Train Epoch 18]: 100%|██████████| 844/844 [00:08<00:00, 94.58it/s, loss=0.0145]\n"
          ]
        },
        {
          "output_type": "stream",
          "name": "stdout",
          "text": [
            "Epoch 18 Summary | Train Loss: 0.0096 | Train Acc: 0.9970 | Eval Loss: 0.0509 | Eval Acc: 0.9890 | Time: 9.91s\n"
          ]
        },
        {
          "output_type": "stream",
          "name": "stderr",
          "text": [
            "[Train Epoch 19]: 100%|██████████| 844/844 [00:08<00:00, 95.39it/s, loss=0.000675]\n"
          ]
        },
        {
          "output_type": "stream",
          "name": "stdout",
          "text": [
            "Epoch 19 Summary | Train Loss: 0.0075 | Train Acc: 0.9977 | Eval Loss: 0.0550 | Eval Acc: 0.9892 | Time: 9.82s\n"
          ]
        },
        {
          "output_type": "stream",
          "name": "stderr",
          "text": [
            "[Train Epoch 20]: 100%|██████████| 844/844 [00:09<00:00, 93.09it/s, loss=0.000198]\n"
          ]
        },
        {
          "output_type": "stream",
          "name": "stdout",
          "text": [
            "Epoch 20 Summary | Train Loss: 0.0074 | Train Acc: 0.9975 | Eval Loss: 0.0509 | Eval Acc: 0.9882 | Time: 10.10s\n",
            "\n",
            "Finish training on time: 3.35 Min.\n"
          ]
        }
      ]
    },
    {
      "cell_type": "markdown",
      "source": [
        "## Evaluate"
      ],
      "metadata": {
        "id": "-yHerMGi4Oks"
      }
    },
    {
      "cell_type": "markdown",
      "source": [
        " ### Plot Accuracy & Loss Graph"
      ],
      "metadata": {
        "id": "8arQ42cEDDNZ"
      }
    },
    {
      "cell_type": "code",
      "source": [
        "epochs = range(1, NUM_EPOCHS + 1)\n",
        "\n",
        "plt.figure(figsize=(12, 5))\n",
        "\n",
        "# Plot Accuracy\n",
        "plt.subplot(1, 2, 1)\n",
        "plt.plot(epochs, train_accuracies, label='Train Accuracy')\n",
        "plt.plot(epochs, eval_accuracies, label='Eval Accuracy')\n",
        "plt.title(\"Accuracy per Epoch\")\n",
        "plt.xlabel(\"Epoch\")\n",
        "plt.ylabel(\"Accuracy\")\n",
        "plt.legend()\n",
        "plt.grid(True)\n",
        "\n",
        "# Plot Loss\n",
        "plt.subplot(1, 2, 2)\n",
        "plt.plot(epochs, train_losses, label='Train Loss')\n",
        "plt.plot(epochs, eval_losses, label='Eval Loss')\n",
        "plt.title(\"Loss per Epoch\")\n",
        "plt.xlabel(\"Epoch\")\n",
        "plt.ylabel(\"Loss\")\n",
        "plt.legend()\n",
        "plt.grid(True)\n",
        "\n",
        "plt.tight_layout()\n",
        "plt.show()"
      ],
      "metadata": {
        "colab": {
          "base_uri": "https://localhost:8080/",
          "height": 465
        },
        "id": "KQejpnxr3PME",
        "outputId": "101f15c7-3034-4322-820d-635c3b529f19"
      },
      "execution_count": null,
      "outputs": [
        {
          "output_type": "display_data",
          "data": {
            "text/plain": [
              "<Figure size 1200x500 with 2 Axes>"
            ],
            "image/png": "[encoded data removed]"
          },
          "metadata": {}
        }
      ]
    },
    {
      "cell_type": "code",
      "source": [
        "import torch\n",
        "import os\n",
        "from sklearn.metrics import accuracy_score"
      ],
      "metadata": {
        "id": "Fktga2kK4T9c"
      },
      "execution_count": null,
      "outputs": []
    },
    {
      "cell_type": "code",
      "source": [
        "model.eval()\n",
        "all_preds = []\n",
        "all_targets = []\n",
        "\n",
        "with torch.no_grad():\n",
        "    for images, labels in tqdm(test_loader, desc=\"Evaluating on Test Set\"):\n",
        "        images, labels = images.to(device), labels.to(device)\n",
        "        outputs = model(images)\n",
        "        preds = torch.argmax(outputs, dim=1)\n",
        "\n",
        "        all_preds.extend(preds.cpu().numpy())\n",
        "        all_targets.extend(labels.cpu().numpy())"
      ],
      "metadata": {
        "colab": {
          "base_uri": "https://localhost:8080/"
        },
        "id": "GJWY70184SB6",
        "outputId": "74192071-8882-4aa2-d27f-bfa3cef447f2"
      },
      "execution_count": null,
      "outputs": [
        {
          "output_type": "stream",
          "name": "stderr",
          "text": [
            "Evaluating on Test Set: 100%|██████████| 157/157 [00:01<00:00, 99.44it/s] \n"
          ]
        }
      ]
    },
    {
      "cell_type": "code",
      "source": [
        "test_accuracy = accuracy_score(all_targets, all_preds)\n",
        "print(f\"🎯 Final Test Accuracy: {test_accuracy:.4f}\")"
      ],
      "metadata": {
        "colab": {
          "base_uri": "https://localhost:8080/"
        },
        "id": "FS9ezPIB4Yoe",
        "outputId": "71d516db-a235-4336-a777-cf3ebc6d933d"
      },
      "execution_count": null,
      "outputs": [
        {
          "output_type": "stream",
          "name": "stdout",
          "text": [
            "🎯 Final Test Accuracy: 0.9898\n"
          ]
        }
      ]
    },
    {
      "cell_type": "markdown",
      "source": [
        "### Evaluation Metrics (Precision / Recall / F1-score)\n",
        "> [วิธีอ่านค่า Evaluation Metrics (Confusion Matrix / Recall / Precision / F1-score)](https://github.com/morsetechlab/DeepVision-Classical-Models?tab=readme-ov-file#%E0%B8%81%E0%B8%B2%E0%B8%A3%E0%B8%AD%E0%B9%88%E0%B8%B2%E0%B8%99%E0%B8%84%E0%B9%88%E0%B8%B2-evaluation-metrics-precision--recall--f1-score)\n"
      ],
      "metadata": {
        "id": "WH2kH6VzMjDD"
      }
    },
    {
      "cell_type": "code",
      "source": [
        "from sklearn.metrics import classification_report\n",
        "\n",
        "print(classification_report(all_targets, all_preds, digits=4))"
      ],
      "metadata": {
        "colab": {
          "base_uri": "https://localhost:8080/"
        },
        "id": "XMGlPQtUF4H1",
        "outputId": "106149c6-c2e1-4592-e905-9b7e65ba2575"
      },
      "execution_count": null,
      "outputs": [
        {
          "output_type": "stream",
          "name": "stdout",
          "text": [
            "              precision    recall  f1-score   support\n",
            "\n",
            "           0     0.9969    0.9969    0.9969       980\n",
            "           1     0.9973    0.9894    0.9934      1135\n",
            "           2     0.9856    0.9932    0.9894      1032\n",
            "           3     0.9673    0.9960    0.9815      1010\n",
            "           4     0.9919    0.9939    0.9929       982\n",
            "           5     0.9932    0.9776    0.9853       892\n",
            "           6     0.9896    0.9906    0.9901       958\n",
            "           7     0.9922    0.9912    0.9917      1028\n",
            "           8     0.9948    0.9897    0.9923       974\n",
            "           9     0.9900    0.9782    0.9840      1009\n",
            "\n",
            "    accuracy                         0.9898     10000\n",
            "   macro avg     0.9899    0.9897    0.9897     10000\n",
            "weighted avg     0.9899    0.9898    0.9898     10000\n",
            "\n"
          ]
        }
      ]
    },
    {
      "cell_type": "markdown",
      "source": [
        "### Confusion Matrix"
      ],
      "metadata": {
        "id": "hFji4IU3744C"
      }
    },
    {
      "cell_type": "code",
      "source": [
        "from sklearn.metrics import confusion_matrix, ConfusionMatrixDisplay\n",
        "\n",
        "cm = confusion_matrix(all_targets, all_preds)\n",
        "disp = ConfusionMatrixDisplay(confusion_matrix=cm, display_labels=list(range(10)))"
      ],
      "metadata": {
        "id": "_kuk2OPk720v"
      },
      "execution_count": null,
      "outputs": []
    },
    {
      "cell_type": "code",
      "source": [
        "fig, ax = plt.subplots(figsize=(8, 8))\n",
        "disp.plot(ax=ax, cmap=\"Blues\", colorbar=False)\n",
        "plt.title(\"Confusion Matrix - MNIST\", fontsize=16)\n",
        "plt.show()"
      ],
      "metadata": {
        "colab": {
          "base_uri": "https://localhost:8080/",
          "height": 720
        },
        "id": "bRWNjWOY8Ax6",
        "outputId": "d0045c93-9f93-4aeb-c69d-2bf82bc9ae07"
      },
      "execution_count": null,
      "outputs": [
        {
          "output_type": "display_data",
          "data": {
            "text/plain": [
              "<Figure size 800x800 with 1 Axes>"
            ],
            "image/png": "[encoded data removed]"
          },
          "metadata": {}
        }
      ]
    },
    {
      "cell_type": "markdown",
      "source": [
        "## Random Inference"
      ],
      "metadata": {
        "id": "o3hv2j6r8DhZ"
      }
    },
    {
      "cell_type": "code",
      "source": [
        "import random\n",
        "import numpy as np\n",
        "\n",
        "def infer_random_images(model, dataset, n=5):\n",
        "    model.eval()\n",
        "    plt.figure(figsize=(15, 3))\n",
        "    for i in range(n):\n",
        "        idx = random.randint(0, len(dataset) - 1)\n",
        "        image, label = dataset[idx]\n",
        "        input_tensor = image.unsqueeze(0).to(device)\n",
        "\n",
        "        with torch.no_grad():\n",
        "            output = model(input_tensor)\n",
        "            pred = output.argmax(dim=1).item()\n",
        "\n",
        "        plt.subplot(1, n, i+1)\n",
        "        plt.imshow(image.squeeze(0), cmap=\"gray\")\n",
        "        plt.title(f\"GT: {label}\\nPred: {pred}\", fontsize=12, color='green' if pred == label else 'red')\n",
        "        plt.axis(\"off\")\n",
        "    plt.suptitle(\"Random Inference\", fontsize=16)\n",
        "    plt.tight_layout()\n",
        "    plt.show()"
      ],
      "metadata": {
        "id": "D2-9vGwv8DEk"
      },
      "execution_count": null,
      "outputs": []
    },
    {
      "cell_type": "code",
      "source": [
        "infer_random_images(model, test_dataset, n=10)"
      ],
      "metadata": {
        "colab": {
          "base_uri": "https://localhost:8080/",
          "height": 198
        },
        "id": "AM55-0RJ8GWG",
        "outputId": "f2310474-499a-4a3e-e669-7ebba1ca8c46"
      },
      "execution_count": null,
      "outputs": [
        {
          "output_type": "display_data",
          "data": {
            "text/plain": [
              "<Figure size 1500x300 with 10 Axes>"
            ],
            "image/png": "[encoded data removed]"
          },
          "metadata": {}
        }
      ]
    },
    {
      "cell_type": "markdown",
      "source": [
        "## Export Model"
      ],
      "metadata": {
        "id": "KXGSY9M54aEz"
      }
    },
    {
      "cell_type": "code",
      "source": [
        "!pwd"
      ],
      "metadata": {
        "id": "f0gOUtRU4x15",
        "colab": {
          "base_uri": "https://localhost:8080/"
        },
        "outputId": "17a6c507-ac06-4a8e-9232-b563dc8da0b1"
      },
      "execution_count": null,
      "outputs": [
        {
          "output_type": "stream",
          "name": "stdout",
          "text": [
            "/content/drive/MyDrive/Colab Notebooks/Classical Deep Learning Implements\n"
          ]
        }
      ]
    },
    {
      "cell_type": "code",
      "source": [
        "save_dir = \"saved_models\"\n",
        "os.makedirs(save_dir, exist_ok=True)\n",
        "model_path = os.path.join(save_dir, \"lenet5_mnist.pt\")\n",
        "torch.save(model.state_dict(), model_path)\n",
        "print(f\"Model Saved at {model_path}\")"
      ],
      "metadata": {
        "colab": {
          "base_uri": "https://localhost:8080/"
        },
        "id": "lLJN-SmM4Zgo",
        "outputId": "29188207-2eb8-4171-a5de-164de0be1293"
      },
      "execution_count": null,
      "outputs": [
        {
          "output_type": "stream",
          "name": "stdout",
          "text": [
            "Model Saved at saved_models/lenet5_mnist.pt\n"
          ]
        }
      ]
    },
    {
      "cell_type": "markdown",
      "source": [
        "## Load Model"
      ],
      "metadata": {
        "id": "BLRI28Cf4tYr"
      }
    },
    {
      "cell_type": "code",
      "source": [
        "model = LeNet5(num_classes=10)\n",
        "model.load_state_dict(torch.load(f\"{project_dir}/saved_models/lenet5_mnist.pt\"))"
      ],
      "metadata": {
        "colab": {
          "base_uri": "https://localhost:8080/"
        },
        "id": "2QOez9ne4tLW",
        "outputId": "d2fd5c51-24e3-4087-93c7-4be6a97222a1"
      },
      "execution_count": null,
      "outputs": [
        {
          "output_type": "execute_result",
          "data": {
            "text/plain": [
              "<All keys matched successfully>"
            ]
          },
          "metadata": {},
          "execution_count": 41
        }
      ]
    },
    {
      "cell_type": "code",
      "source": [
        "model.eval()"
      ],
      "metadata": {
        "colab": {
          "base_uri": "https://localhost:8080/"
        },
        "id": "7YSEUafYDapm",
        "outputId": "6b1a2f68-95f2-4315-982b-7038c00e7bea"
      },
      "execution_count": null,
      "outputs": [
        {
          "output_type": "execute_result",
          "data": {
            "text/plain": [
              "LeNet5(\n",
              "  (conv1): Conv2d(1, 6, kernel_size=(5, 5), stride=(1, 1))\n",
              "  (pool1): AvgPool2d(kernel_size=2, stride=2, padding=0)\n",
              "  (conv2): Conv2d(6, 16, kernel_size=(5, 5), stride=(1, 1))\n",
              "  (pool2): AvgPool2d(kernel_size=2, stride=2, padding=0)\n",
              "  (conv3): Conv2d(16, 120, kernel_size=(5, 5), stride=(1, 1))\n",
              "  (fc1): Linear(in_features=120, out_features=84, bias=True)\n",
              "  (fc2): Linear(in_features=84, out_features=10, bias=True)\n",
              ")"
            ]
          },
          "metadata": {},
          "execution_count": 42
        }
      ]
    }
  ]
}